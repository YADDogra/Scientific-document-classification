{
 "cells": [
  {
   "cell_type": "markdown",
   "metadata": {},
   "source": [
    "# Scientific Document Classification "
   ]
  },
  {
   "cell_type": "markdown",
   "metadata": {},
   "source": [
    "## Import Libraries"
   ]
  },
  {
   "cell_type": "code",
   "execution_count": 21,
   "metadata": {},
   "outputs": [],
   "source": [
    "# import all required libraries and packages\n",
    "import pandas as pd\n",
    "import numpy as np\n",
    "import matplotlib.pyplot as plt\n",
    "%matplotlib inline\n",
    "import nltk\n",
    "from nltk.stem import WordNetLemmatizer\n",
    "import gensim\n",
    "from gensim.parsing.preprocessing import remove_stopwords\n",
    "import sklearn\n",
    "from sklearn.neighbors import KNeighborsClassifier \n",
    "from sklearn.pipeline import Pipeline\n",
    "from sklearn.feature_extraction.text import CountVectorizer, TfidfTransformer\n",
    "from sklearn.model_selection import train_test_split, GridSearchCV"
   ]
  },
  {
   "cell_type": "markdown",
   "metadata": {},
   "source": [
    "## Read Data"
   ]
  },
  {
   "cell_type": "code",
   "execution_count": 17,
   "metadata": {},
   "outputs": [
    {
     "data": {
      "text/html": [
       "<div>\n",
       "<style scoped>\n",
       "    .dataframe tbody tr th:only-of-type {\n",
       "        vertical-align: middle;\n",
       "    }\n",
       "\n",
       "    .dataframe tbody tr th {\n",
       "        vertical-align: top;\n",
       "    }\n",
       "\n",
       "    .dataframe thead th {\n",
       "        text-align: right;\n",
       "    }\n",
       "</style>\n",
       "<table border=\"1\" class=\"dataframe\">\n",
       "  <thead>\n",
       "    <tr style=\"text-align: right;\">\n",
       "      <th></th>\n",
       "      <th>train_id</th>\n",
       "      <th>abstract</th>\n",
       "      <th>label</th>\n",
       "    </tr>\n",
       "  </thead>\n",
       "  <tbody>\n",
       "    <tr>\n",
       "      <th>0</th>\n",
       "      <td>1</td>\n",
       "      <td>save for some special cases, current training ...</td>\n",
       "      <td>cs</td>\n",
       "    </tr>\n",
       "    <tr>\n",
       "      <th>1</th>\n",
       "      <td>2</td>\n",
       "      <td>we consider a dynamical system with finitely m...</td>\n",
       "      <td>math.DS</td>\n",
       "    </tr>\n",
       "    <tr>\n",
       "      <th>2</th>\n",
       "      <td>3</td>\n",
       "      <td>we consider discrete dynamical systems of \"ant...</td>\n",
       "      <td>cs</td>\n",
       "    </tr>\n",
       "    <tr>\n",
       "      <th>3</th>\n",
       "      <td>4</td>\n",
       "      <td>retrofitting techniques, which inject external...</td>\n",
       "      <td>cs</td>\n",
       "    </tr>\n",
       "    <tr>\n",
       "      <th>4</th>\n",
       "      <td>5</td>\n",
       "      <td>approaches to decision-making under uncertaint...</td>\n",
       "      <td>cs</td>\n",
       "    </tr>\n",
       "    <tr>\n",
       "      <th>...</th>\n",
       "      <td>...</td>\n",
       "      <td>...</td>\n",
       "      <td>...</td>\n",
       "    </tr>\n",
       "    <tr>\n",
       "      <th>29633</th>\n",
       "      <td>29634</td>\n",
       "      <td>with the powerful deep network architectures, ...</td>\n",
       "      <td>cs</td>\n",
       "    </tr>\n",
       "    <tr>\n",
       "      <th>29634</th>\n",
       "      <td>29635</td>\n",
       "      <td>we develop a mixed-characteristic version of t...</td>\n",
       "      <td>math.AG</td>\n",
       "    </tr>\n",
       "    <tr>\n",
       "      <th>29635</th>\n",
       "      <td>29636</td>\n",
       "      <td>in complex analysis, the winding number measur...</td>\n",
       "      <td>cs</td>\n",
       "    </tr>\n",
       "    <tr>\n",
       "      <th>29636</th>\n",
       "      <td>29637</td>\n",
       "      <td>we discuss secure computation of modular sum w...</td>\n",
       "      <td>cs</td>\n",
       "    </tr>\n",
       "    <tr>\n",
       "      <th>29637</th>\n",
       "      <td>29638</td>\n",
       "      <td>in this paper, we define the notion of graph t...</td>\n",
       "      <td>math.AG</td>\n",
       "    </tr>\n",
       "  </tbody>\n",
       "</table>\n",
       "<p>29638 rows × 3 columns</p>\n",
       "</div>"
      ],
      "text/plain": [
       "       train_id                                           abstract    label\n",
       "0             1  save for some special cases, current training ...       cs\n",
       "1             2  we consider a dynamical system with finitely m...  math.DS\n",
       "2             3  we consider discrete dynamical systems of \"ant...       cs\n",
       "3             4  retrofitting techniques, which inject external...       cs\n",
       "4             5  approaches to decision-making under uncertaint...       cs\n",
       "...         ...                                                ...      ...\n",
       "29633     29634  with the powerful deep network architectures, ...       cs\n",
       "29634     29635  we develop a mixed-characteristic version of t...  math.AG\n",
       "29635     29636  in complex analysis, the winding number measur...       cs\n",
       "29636     29637  we discuss secure computation of modular sum w...       cs\n",
       "29637     29638  in this paper, we define the notion of graph t...  math.AG\n",
       "\n",
       "[29638 rows x 3 columns]"
      ]
     },
     "execution_count": 17,
     "metadata": {},
     "output_type": "execute_result"
    }
   ],
   "source": [
    "# import training data\n",
    "data = pd.read_csv('./Data/A2_data/train_data_labels.csv')\n",
    "data"
   ]
  },
  {
   "cell_type": "code",
   "execution_count": 9,
   "metadata": {},
   "outputs": [
    {
     "data": {
      "text/plain": [
       "array(['cs', 'math.DS', 'stat.ML', 'q-fin.MF', 'cond-mat.mes-hall',\n",
       "       'astro-ph.GA', 'cond-mat.soft', 'astro-ph.HE', 'math.LO',\n",
       "       'math.CO', 'physics.soc-ph', 'physics.optics', 'math.OA',\n",
       "       'math.AC', 'math.AG', 'math.NT', 'math.AP', 'q-bio.OT', 'math.FA',\n",
       "       'q-bio.TO', 'math.DG', 'math.RT', 'math.GR', 'cond-mat.str-el',\n",
       "       'stat.ME', 'cond-mat.stat-mech', 'q-bio.NC', 'physics.bio-ph',\n",
       "       'q-fin.EC', 'physics.atom-ph', 'astro-ph.CO', 'q-fin.RM',\n",
       "       'physics.plasm-ph', 'astro-ph.SR', 'math.PR', 'math.KT',\n",
       "       'cond-mat.supr-con', 'math.IT', 'astro-ph.IM', 'math.GT',\n",
       "       'q-bio.PE', 'q-bio.QM', 'q-fin.CP', 'math.CA', 'math.MG',\n",
       "       'q-bio.CB', 'math.CV', 'math.SG', 'math.CT', 'q-bio.GN',\n",
       "       'q-fin.ST', 'nlin.CD', 'physics.geo-ph', 'physics.chem-ph',\n",
       "       'nlin.PS', 'physics.flu-dyn', 'physics.atm-clus', 'math.MP',\n",
       "       'cond-mat.dis-nn', 'q-fin.GN', 'physics.hist-ph',\n",
       "       'physics.class-ph', 'stat.CO', 'cond-mat.mtrl-sci', 'math.AT',\n",
       "       'physics.pop-ph', 'q-fin.PR', 'astro-ph.EP', 'stat.TH', 'q-bio.BM',\n",
       "       'physics.gen-ph', 'physics.med-ph', 'stat.AP', 'physics.ins-det',\n",
       "       'physics.comp-ph', 'q-bio.SC', 'math.ST', 'physics.acc-ph',\n",
       "       'math.RA', 'q-fin.PM', 'cond-mat.other', 'math.SP',\n",
       "       'cond-mat.quant-gas', 'q-fin.TR', 'nlin.CG', 'math.OC', 'math.NA',\n",
       "       'physics.app-ph', 'math.HO', 'q-bio.MN', 'physics.data-an',\n",
       "       'physics.ao-ph', 'nlin.AO', 'nlin.SI', 'math.QA', 'physics.ed-ph',\n",
       "       'math.GN', 'physics.space-ph', 'stat.OT', 'math.GM'], dtype=object)"
      ]
     },
     "execution_count": 9,
     "metadata": {},
     "output_type": "execute_result"
    }
   ],
   "source": [
    "# get unique labels\n",
    "data.label.unique()    # 100 unique labels"
   ]
  },
  {
   "cell_type": "code",
   "execution_count": 10,
   "metadata": {},
   "outputs": [
    {
     "data": {
      "text/plain": [
       "<matplotlib.axes._subplots.AxesSubplot at 0x27db74f1240>"
      ]
     },
     "execution_count": 10,
     "metadata": {},
     "output_type": "execute_result"
    },
    {
     "data": {
      "image/png": "[encoded data removed]",
      "text/plain": [
       "<Figure size 1440x504 with 1 Axes>"
      ]
     },
     "metadata": {
      "needs_background": "light"
     },
     "output_type": "display_data"
    }
   ],
   "source": [
    "# plot the occurence of labels\n",
    "plt.figure(figsize=(20,7))\n",
    "data.label.value_counts().plot(kind='bar')"
   ]
  },
  {
   "cell_type": "markdown",
   "metadata": {},
   "source": [
    "**Majority labels are 'cs' which is more that 5 times the highest minority label 'math.AG'. Also a lot of document labels belong to different fields of mathematics, example, math.AG, math.CV etc.**"
   ]
  },
  {
   "cell_type": "code",
   "execution_count": 16,
   "metadata": {},
   "outputs": [
    {
     "data": {
      "text/html": [
       "<div>\n",
       "<style scoped>\n",
       "    .dataframe tbody tr th:only-of-type {\n",
       "        vertical-align: middle;\n",
       "    }\n",
       "\n",
       "    .dataframe tbody tr th {\n",
       "        vertical-align: top;\n",
       "    }\n",
       "\n",
       "    .dataframe thead th {\n",
       "        text-align: right;\n",
       "    }\n",
       "</style>\n",
       "<table border=\"1\" class=\"dataframe\">\n",
       "  <thead>\n",
       "    <tr style=\"text-align: right;\">\n",
       "      <th></th>\n",
       "      <th>test_id</th>\n",
       "      <th>abstract</th>\n",
       "    </tr>\n",
       "  </thead>\n",
       "  <tbody>\n",
       "    <tr>\n",
       "      <th>0</th>\n",
       "      <td>1</td>\n",
       "      <td>the method of model averaging has become an im...</td>\n",
       "    </tr>\n",
       "    <tr>\n",
       "      <th>1</th>\n",
       "      <td>2</td>\n",
       "      <td>unmanned aerial vehicle (uav) systems are bein...</td>\n",
       "    </tr>\n",
       "    <tr>\n",
       "      <th>2</th>\n",
       "      <td>3</td>\n",
       "      <td>in this paper, we propose a new loss function ...</td>\n",
       "    </tr>\n",
       "    <tr>\n",
       "      <th>3</th>\n",
       "      <td>4</td>\n",
       "      <td>we show how to integrate a weak morphism of li...</td>\n",
       "    </tr>\n",
       "    <tr>\n",
       "      <th>4</th>\n",
       "      <td>5</td>\n",
       "      <td>caustics occur widely in dynamics and take on ...</td>\n",
       "    </tr>\n",
       "    <tr>\n",
       "      <th>...</th>\n",
       "      <td>...</td>\n",
       "      <td>...</td>\n",
       "    </tr>\n",
       "    <tr>\n",
       "      <th>7405</th>\n",
       "      <td>7406</td>\n",
       "      <td>statistical inference of evolutionary paramete...</td>\n",
       "    </tr>\n",
       "    <tr>\n",
       "      <th>7406</th>\n",
       "      <td>7407</td>\n",
       "      <td>we present a deep learning framework based on ...</td>\n",
       "    </tr>\n",
       "    <tr>\n",
       "      <th>7407</th>\n",
       "      <td>7408</td>\n",
       "      <td>t-cell receptor (tcr) repertoire data contain ...</td>\n",
       "    </tr>\n",
       "    <tr>\n",
       "      <th>7408</th>\n",
       "      <td>7409</td>\n",
       "      <td>in this paper, we provide a modern synthesis o...</td>\n",
       "    </tr>\n",
       "    <tr>\n",
       "      <th>7409</th>\n",
       "      <td>7410</td>\n",
       "      <td>while the cms experiment is currently harvesti...</td>\n",
       "    </tr>\n",
       "  </tbody>\n",
       "</table>\n",
       "<p>7410 rows × 2 columns</p>\n",
       "</div>"
      ],
      "text/plain": [
       "      test_id                                           abstract\n",
       "0           1  the method of model averaging has become an im...\n",
       "1           2  unmanned aerial vehicle (uav) systems are bein...\n",
       "2           3  in this paper, we propose a new loss function ...\n",
       "3           4  we show how to integrate a weak morphism of li...\n",
       "4           5  caustics occur widely in dynamics and take on ...\n",
       "...       ...                                                ...\n",
       "7405     7406  statistical inference of evolutionary paramete...\n",
       "7406     7407  we present a deep learning framework based on ...\n",
       "7407     7408  t-cell receptor (tcr) repertoire data contain ...\n",
       "7408     7409  in this paper, we provide a modern synthesis o...\n",
       "7409     7410  while the cms experiment is currently harvesti...\n",
       "\n",
       "[7410 rows x 2 columns]"
      ]
     },
     "execution_count": 16,
     "metadata": {},
     "output_type": "execute_result"
    }
   ],
   "source": [
    "#import test data\n",
    "data_test = pd.read_csv('./Data/A2_data/test_data.csv')\n",
    "data_test"
   ]
  },
  {
   "cell_type": "markdown",
   "metadata": {},
   "source": [
    "## Pre-process the data"
   ]
  },
  {
   "cell_type": "code",
   "execution_count": 13,
   "metadata": {},
   "outputs": [],
   "source": [
    "# function to remove punctuations from the abstract of the data\n",
    "def pre_proc(df):\n",
    "    \n",
    "    punctuation_signs = list(\"?:!`.,;:)($/\\\\><}{='*_+-\")\n",
    "    \n",
    "    for punct_sign in punctuation_signs:\n",
    "        df['abstract'] = df['abstract'].str.replace(punct_sign, '')\n",
    "    \n",
    "    df['abstract'] = df['abstract'].str.replace('\"', \"\")\n",
    "    \n",
    "    return df"
   ]
  },
  {
   "cell_type": "code",
   "execution_count": 14,
   "metadata": {},
   "outputs": [],
   "source": [
    "# function to lemmatize abstract from the data\n",
    "\n",
    "def lemmatiz(df):\n",
    "    \n",
    "    wordnet_lemmatizer = WordNetLemmatizer()\n",
    "\n",
    "    nrows = len(df)\n",
    "    lemmatized_text_list = []\n",
    "\n",
    "    for row in range(0, nrows):\n",
    "\n",
    "        # Create an empty list containing lemmatized words\n",
    "        lemmatized_list = []\n",
    "\n",
    "        # Save the text and its words into an object\n",
    "        text = df.loc[row]['abstract']\n",
    "        text_words = text.split(\" \")\n",
    "\n",
    "        # Iterate through every word to lemmatize\n",
    "        for word in text_words:\n",
    "            lemmatized_list.append(wordnet_lemmatizer.lemmatize(word, pos=\"v\"))\n",
    "\n",
    "        # Join the list\n",
    "        lemmatized_text = \" \".join(lemmatized_list)\n",
    "\n",
    "        # Append to the list containing the texts\n",
    "        lemmatized_text_list.append(lemmatized_text)\n",
    "\n",
    "\n",
    "    df['abstract'] = lemmatized_text_list\n",
    "    \n",
    "    return df"
   ]
  },
  {
   "cell_type": "code",
   "execution_count": 18,
   "metadata": {},
   "outputs": [],
   "source": [
    "# remove punctuations and lemmatize train data\n",
    "data  = pre_proc(data)\n",
    "data  = lemmatiz(data)\n",
    "\n",
    "# remove punctuations and lemmatize test data\n",
    "data_test  = pre_proc(data_test)\n",
    "data_test  = lemmatiz(data_test)"
   ]
  },
  {
   "cell_type": "markdown",
   "metadata": {},
   "source": [
    "## Feature Engineering and Model Development"
   ]
  },
  {
   "cell_type": "code",
   "execution_count": 22,
   "metadata": {},
   "outputs": [],
   "source": [
    "# split the training data 80/20 ratio\n",
    "X_train, X_test, y_train, y_test = train_test_split(data['abstract'],data['label'],test_size=0.20,random_state=8)"
   ]
  },
  {
   "cell_type": "code",
   "execution_count": 23,
   "metadata": {},
   "outputs": [],
   "source": [
    "# import the stopwords list from 'gensim' library\n",
    "# https://pypi.org/project/gensim/\n",
    "\n",
    "gensim_stopwords = gensim.parsing.preprocessing.STOPWORDS\n",
    "\n",
    "# store it in list format\n",
    "gen_list = list(gensim_stopwords) "
   ]
  },
  {
   "cell_type": "markdown",
   "metadata": {},
   "source": [
    "**Now we create a Pipeline in which we extract the features and input the data to estimator.**"
   ]
  },
  {
   "cell_type": "code",
   "execution_count": 27,
   "metadata": {},
   "outputs": [],
   "source": [
    "# create pipeline\n",
    "\n",
    "# use gensim stopwords list to remove stopwords\n",
    "\n",
    "pipe_knn = Pipeline([('vect', CountVectorizer(analyzer='word',stop_words=gen_list, max_df=0.90)),\n",
    "                     ('tfidf', TfidfTransformer(sublinear_tf=True)),\n",
    "                     ('knn', KNeighborsClassifier())])"
   ]
  },
  {
   "cell_type": "code",
   "execution_count": 28,
   "metadata": {},
   "outputs": [
    {
     "data": {
      "text/plain": [
       "dict_keys(['memory', 'steps', 'verbose', 'vect', 'tfidf', 'knn', 'vect__analyzer', 'vect__binary', 'vect__decode_error', 'vect__dtype', 'vect__encoding', 'vect__input', 'vect__lowercase', 'vect__max_df', 'vect__max_features', 'vect__min_df', 'vect__ngram_range', 'vect__preprocessor', 'vect__stop_words', 'vect__strip_accents', 'vect__token_pattern', 'vect__tokenizer', 'vect__vocabulary', 'tfidf__norm', 'tfidf__smooth_idf', 'tfidf__sublinear_tf', 'tfidf__use_idf', 'knn__algorithm', 'knn__leaf_size', 'knn__metric', 'knn__metric_params', 'knn__n_jobs', 'knn__n_neighbors', 'knn__p', 'knn__weights'])"
      ]
     },
     "execution_count": 28,
     "metadata": {},
     "output_type": "execute_result"
    }
   ],
   "source": [
    "# get the pipeline parameter keys\n",
    "pipe_knn.get_params().keys()"
   ]
  },
  {
   "cell_type": "markdown",
   "metadata": {},
   "source": [
    "**Hyperparameter Tuning using GridSearchCV**"
   ]
  },
  {
   "cell_type": "code",
   "execution_count": 34,
   "metadata": {},
   "outputs": [
    {
     "name": "stdout",
     "output_type": "stream",
     "text": [
      "0.5516239263587872\n",
      "{'knn__n_neighbors': 24, 'vect__ngram_range': (1, 2), 'vect__strip_accents': 'ascii'}\n",
      "Pipeline(steps=[('vect',\n",
      "                 CountVectorizer(max_df=0.9, ngram_range=(1, 2),\n",
      "                                 stop_words=['doesn', 'fifteen', 'own',\n",
      "                                             'elsewhere', 'there', 'kg',\n",
      "                                             'seemed', 'side', 'along',\n",
      "                                             'whatever', 'whereupon', 'up',\n",
      "                                             'already', 'every', 'amoungst',\n",
      "                                             'three', 'nothing', 'herein',\n",
      "                                             'can', 'everyone', 'rather',\n",
      "                                             'anywhere', 'against', 'go',\n",
      "                                             'been', 'how', 'though', 'its',\n",
      "                                             'these', 'alone', ...],\n",
      "                                 strip_accents='ascii')),\n",
      "                ('tfidf', TfidfTransformer(sublinear_tf=True)),\n",
      "                ('knn', KNeighborsClassifier(n_neighbors=24))])\n"
     ]
    }
   ],
   "source": [
    "# specify the paramete list for tuning\n",
    "# due to computational limitations using less parameters\n",
    "\n",
    "parameters = {'vect__strip_accents':['ascii','unicode'],'vect__ngram_range':[(1,3),(1,2)],'knn__n_neighbors': [23,24,25]}\n",
    "\n",
    "# initialize the grid\n",
    "grid_knn = GridSearchCV(pipe_knn, parameters, n_jobs=-1, cv=3)\n",
    "\n",
    "# input the training data splits\n",
    "grid_knn_model = grid_knn.fit(X_train, y_train)\n",
    "\n",
    "\n",
    "print(grid_knn_model.best_score_)\n",
    "print(grid_knn_model.best_params_)\n",
    "print(grid_knn_model.best_estimator_)"
   ]
  },
  {
   "cell_type": "code",
   "execution_count": 35,
   "metadata": {},
   "outputs": [
    {
     "data": {
      "text/plain": [
       "0.562246963562753"
      ]
     },
     "execution_count": 35,
     "metadata": {},
     "output_type": "execute_result"
    }
   ],
   "source": [
    "# use the best model to make predictions\n",
    "knn_model = grid_knn_model.best_estimator_\n",
    "\n",
    "predicted_label = knn_model.predict(X_test)\n",
    "np.mean(predicted_label == y_test)"
   ]
  },
  {
   "cell_type": "markdown",
   "metadata": {},
   "source": [
    "**Our model gives 56.22% train accuracy. Now we train the model on the whole train dataset and make predictions on the provided test dataset.**"
   ]
  },
  {
   "cell_type": "code",
   "execution_count": 38,
   "metadata": {},
   "outputs": [],
   "source": [
    "# make final model on whole train data set\n",
    "final_model = knn_model.fit(data.abstract, data.label)\n",
    "\n",
    "# make prediction on whole test dataset\n",
    "predicted_test_labels = final_model.predict(data_test.abstract)"
   ]
  },
  {
   "cell_type": "code",
   "execution_count": 39,
   "metadata": {},
   "outputs": [],
   "source": [
    "# make new dataframe with predicted labels and export it as .csv file\n",
    "df = pd.DataFrame(columns=['test_id', 'label'])  \n",
    "df['label'] = predicted_test_labels\n",
    "df['test_id'] = np.arange(1, len(df) + 1)\n",
    "df.to_csv('./pred_labels.csv', index=False)"
   ]
  },
  {
   "cell_type": "markdown",
   "metadata": {},
   "source": [
    "**Submitting the final prediction file on Kaggle gives 57.04% testing accuracy on 30% test data labels.**"
   ]
  }
 ],
 "metadata": {
  "kernelspec": {
   "display_name": "Python 3",
   "language": "python",
   "name": "python3"
  },
  "language_info": {
   "codemirror_mode": {
    "name": "ipython",
    "version": 3
   },
   "file_extension": ".py",
   "mimetype": "text/x-python",
   "name": "python",
   "nbconvert_exporter": "python",
   "pygments_lexer": "ipython3",
   "version": "3.7.3"
  }
 },
 "nbformat": 4,
 "nbformat_minor": 2
}
